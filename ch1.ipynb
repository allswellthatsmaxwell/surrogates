{
 "cells": [
  {
   "cell_type": "code",
   "execution_count": 1,
   "metadata": {},
   "outputs": [],
   "source": [
    "#default_exp ch1"
   ]
  },
  {
   "cell_type": "markdown",
   "metadata": {},
   "source": [
    "The file wire.csv contains data relating the pull strength (pstren) of a wire bond (which we’ll treat as a response) to six characteristics which we shall treat as design variables: die height (dieh), post height (posth), loop height (looph), wire length (wlen), bond width on the die (diew), and bond width on the post (postw). (Derived from exercise 2.3 in Myers, Montgomery, and Anderson–Cook (2016) using data from Table E2.1.)\n",
    "\n",
    "* Write code that converts natural variables in the file to coded variables in the unit hypercube. Also, normalize responses to have a mean of zero and a range of 1.\n",
    "* Use model selection techniques to select a parsimonious linear model for the coded data including, potentially, second-order and interaction effects.\n",
    "* Use the fitted model to make a prediction for pull strength, when the explanatory variables take on the values c(6, 20, 30, 90, 2, 2), in the order above, with a full accounting of uncertainty. Make sure the predictive quantities are on the original scale of the data."
   ]
  },
  {
   "cell_type": "code",
   "execution_count": 2,
   "metadata": {},
   "outputs": [],
   "source": [
    "%load_ext autoreload\n",
    "%autoreload 2\n",
    "%config Completer.use_jedi = False"
   ]
  },
  {
   "cell_type": "code",
   "execution_count": 15,
   "metadata": {},
   "outputs": [],
   "source": [
    "#hide\n",
    "from nbdev.showdoc import *\n",
    "import pandas as pd\n",
    "import numpy as np\n",
    "from typing import List"
   ]
  },
  {
   "cell_type": "code",
   "execution_count": 77,
   "metadata": {},
   "outputs": [],
   "source": [
    "def length(x: pd.Series):\n",
    "    return np.sqrt(np.sum(np.square(x)))\n",
    "\n",
    "def _predictor_to_unit_length(x: pd.Series) -> pd.Series:\n",
    "    return x / length(x)\n",
    "\n",
    "\n",
    "class DataManager:\n",
    "    def __init__(self, response=\"postw\", datafile=\"http://bobby.gramacy.com/surrogates/wire.csv\"):\n",
    "        self.data = pd.read_csv(datafile)\n",
    "        self.data.columns = [s.strip() for s in self.data.columns]\n",
    "        self.response: str = response\n",
    "        self.predictors: List[str] = self._get_predictors()\n",
    "        self.normalized = False\n",
    "\n",
    "    \n",
    "    def _get_predictors(self) -> List[str]:\n",
    "        return [colname for colname in self.data.columns if colname != self.response]\n",
    "\n",
    "    \n",
    "    def predictors_to_hypercube(self):\n",
    "        for colname in self.predictors:\n",
    "            self.data[colname] = _predictor_to_unit_length(self.data[colname])\n",
    "            \n",
    "    def normalize_response(self):\n",
    "        if self.normalized:\n",
    "            return\n",
    "        self.orig_mean = np.mean(self.data[self.response])\n",
    "        self.orig_std = np.std(self.data[self.response])\n",
    "        self.data[self.response] -= self.orig_mean\n",
    "        self.data[self.response] /= self.orig_std\n",
    "        self.normalized = True\n"
   ]
  },
  {
   "cell_type": "code",
   "execution_count": 78,
   "metadata": {},
   "outputs": [
    {
     "data": {
      "text/html": [
       "<div>\n",
       "<style scoped>\n",
       "    .dataframe tbody tr th:only-of-type {\n",
       "        vertical-align: middle;\n",
       "    }\n",
       "\n",
       "    .dataframe tbody tr th {\n",
       "        vertical-align: top;\n",
       "    }\n",
       "\n",
       "    .dataframe thead th {\n",
       "        text-align: right;\n",
       "    }\n",
       "</style>\n",
       "<table border=\"1\" class=\"dataframe\">\n",
       "  <thead>\n",
       "    <tr style=\"text-align: right;\">\n",
       "      <th></th>\n",
       "      <th>pstren</th>\n",
       "      <th>dieh</th>\n",
       "      <th>posth</th>\n",
       "      <th>looph</th>\n",
       "      <th>wlen</th>\n",
       "      <th>diew</th>\n",
       "      <th>postw</th>\n",
       "    </tr>\n",
       "  </thead>\n",
       "  <tbody>\n",
       "    <tr>\n",
       "      <th>0</th>\n",
       "      <td>8.0</td>\n",
       "      <td>5.2</td>\n",
       "      <td>19.6</td>\n",
       "      <td>29.6</td>\n",
       "      <td>94.9</td>\n",
       "      <td>2.1</td>\n",
       "      <td>2.3</td>\n",
       "    </tr>\n",
       "    <tr>\n",
       "      <th>1</th>\n",
       "      <td>8.3</td>\n",
       "      <td>5.2</td>\n",
       "      <td>19.8</td>\n",
       "      <td>32.4</td>\n",
       "      <td>89.7</td>\n",
       "      <td>2.1</td>\n",
       "      <td>1.8</td>\n",
       "    </tr>\n",
       "    <tr>\n",
       "      <th>2</th>\n",
       "      <td>8.5</td>\n",
       "      <td>5.8</td>\n",
       "      <td>19.6</td>\n",
       "      <td>31.0</td>\n",
       "      <td>96.2</td>\n",
       "      <td>2.0</td>\n",
       "      <td>2.0</td>\n",
       "    </tr>\n",
       "    <tr>\n",
       "      <th>3</th>\n",
       "      <td>8.8</td>\n",
       "      <td>6.4</td>\n",
       "      <td>19.4</td>\n",
       "      <td>32.4</td>\n",
       "      <td>95.6</td>\n",
       "      <td>2.2</td>\n",
       "      <td>2.1</td>\n",
       "    </tr>\n",
       "    <tr>\n",
       "      <th>4</th>\n",
       "      <td>9.0</td>\n",
       "      <td>5.8</td>\n",
       "      <td>18.6</td>\n",
       "      <td>28.6</td>\n",
       "      <td>86.5</td>\n",
       "      <td>2.0</td>\n",
       "      <td>1.8</td>\n",
       "    </tr>\n",
       "  </tbody>\n",
       "</table>\n",
       "</div>"
      ],
      "text/plain": [
       "   pstren  dieh  posth  looph  wlen  diew  postw\n",
       "0     8.0   5.2   19.6   29.6  94.9   2.1    2.3\n",
       "1     8.3   5.2   19.8   32.4  89.7   2.1    1.8\n",
       "2     8.5   5.8   19.6   31.0  96.2   2.0    2.0\n",
       "3     8.8   6.4   19.4   32.4  95.6   2.2    2.1\n",
       "4     9.0   5.8   18.6   28.6  86.5   2.0    1.8"
      ]
     },
     "execution_count": 78,
     "metadata": {},
     "output_type": "execute_result"
    }
   ],
   "source": [
    "dm = DataManager()\n",
    "dm.data.head()"
   ]
  },
  {
   "cell_type": "markdown",
   "metadata": {},
   "source": [
    "---------\n",
    "### Write code that converts natural variables in the file to coded variables in the unit hypercube. Also, normalize responses to have a mean of zero and a range of 1."
   ]
  },
  {
   "cell_type": "code",
   "execution_count": 79,
   "metadata": {},
   "outputs": [
    {
     "data": {
      "text/html": [
       "<div>\n",
       "<style scoped>\n",
       "    .dataframe tbody tr th:only-of-type {\n",
       "        vertical-align: middle;\n",
       "    }\n",
       "\n",
       "    .dataframe tbody tr th {\n",
       "        vertical-align: top;\n",
       "    }\n",
       "\n",
       "    .dataframe thead th {\n",
       "        text-align: right;\n",
       "    }\n",
       "</style>\n",
       "<table border=\"1\" class=\"dataframe\">\n",
       "  <thead>\n",
       "    <tr style=\"text-align: right;\">\n",
       "      <th></th>\n",
       "      <th>pstren</th>\n",
       "      <th>dieh</th>\n",
       "      <th>posth</th>\n",
       "      <th>looph</th>\n",
       "      <th>wlen</th>\n",
       "      <th>diew</th>\n",
       "      <th>postw</th>\n",
       "    </tr>\n",
       "  </thead>\n",
       "  <tbody>\n",
       "    <tr>\n",
       "      <th>0</th>\n",
       "      <td>0.179626</td>\n",
       "      <td>0.205221</td>\n",
       "      <td>0.231706</td>\n",
       "      <td>0.210582</td>\n",
       "      <td>0.245585</td>\n",
       "      <td>0.230895</td>\n",
       "      <td>2.116610</td>\n",
       "    </tr>\n",
       "    <tr>\n",
       "      <th>1</th>\n",
       "      <td>0.186362</td>\n",
       "      <td>0.205221</td>\n",
       "      <td>0.234071</td>\n",
       "      <td>0.230502</td>\n",
       "      <td>0.232129</td>\n",
       "      <td>0.230895</td>\n",
       "      <td>-0.884554</td>\n",
       "    </tr>\n",
       "    <tr>\n",
       "      <th>2</th>\n",
       "      <td>0.190852</td>\n",
       "      <td>0.228901</td>\n",
       "      <td>0.231706</td>\n",
       "      <td>0.220542</td>\n",
       "      <td>0.248950</td>\n",
       "      <td>0.219900</td>\n",
       "      <td>0.315912</td>\n",
       "    </tr>\n",
       "    <tr>\n",
       "      <th>3</th>\n",
       "      <td>0.197588</td>\n",
       "      <td>0.252580</td>\n",
       "      <td>0.229342</td>\n",
       "      <td>0.230502</td>\n",
       "      <td>0.247397</td>\n",
       "      <td>0.241890</td>\n",
       "      <td>0.916145</td>\n",
       "    </tr>\n",
       "    <tr>\n",
       "      <th>4</th>\n",
       "      <td>0.202079</td>\n",
       "      <td>0.228901</td>\n",
       "      <td>0.219884</td>\n",
       "      <td>0.203468</td>\n",
       "      <td>0.223848</td>\n",
       "      <td>0.219900</td>\n",
       "      <td>-0.884554</td>\n",
       "    </tr>\n",
       "  </tbody>\n",
       "</table>\n",
       "</div>"
      ],
      "text/plain": [
       "     pstren      dieh     posth     looph      wlen      diew     postw\n",
       "0  0.179626  0.205221  0.231706  0.210582  0.245585  0.230895  2.116610\n",
       "1  0.186362  0.205221  0.234071  0.230502  0.232129  0.230895 -0.884554\n",
       "2  0.190852  0.228901  0.231706  0.220542  0.248950  0.219900  0.315912\n",
       "3  0.197588  0.252580  0.229342  0.230502  0.247397  0.241890  0.916145\n",
       "4  0.202079  0.228901  0.219884  0.203468  0.223848  0.219900 -0.884554"
      ]
     },
     "execution_count": 79,
     "metadata": {},
     "output_type": "execute_result"
    }
   ],
   "source": [
    "dm.predictors_to_hypercube()\n",
    "dm.normalize_response()\n",
    "dm.data.head()"
   ]
  },
  {
   "cell_type": "code",
   "execution_count": 88,
   "metadata": {},
   "outputs": [],
   "source": [
    "# Test data standardization.\n",
    "for colname in dm.predictors:\n",
    "    x = dm.data[colname]\n",
    "    assert x.max() <= 1    \n",
    "    assert x.min() >= 0\n",
    "    1 - length(x) <= 10e-7"
   ]
  },
  {
   "cell_type": "markdown",
   "metadata": {},
   "source": [
    "---------\n",
    "### Use model selection techniques to select a parsimonious linear model for the coded data including, potentially, second-order and interaction effects."
   ]
  },
  {
   "cell_type": "code",
   "execution_count": 108,
   "metadata": {},
   "outputs": [],
   "source": [
    "import pyDOE as designs"
   ]
  },
  {
   "cell_type": "code",
   "execution_count": 118,
   "metadata": {},
   "outputs": [],
   "source": [
    "domain = [0.000, 1.000]\n",
    "shape = 100\n",
    "ranges = np.array([domain, domain])\n",
    "grid = designs.lhs(shape)"
   ]
  },
  {
   "cell_type": "code",
   "execution_count": null,
   "metadata": {},
   "outputs": [],
   "source": []
  },
  {
   "cell_type": "code",
   "execution_count": 101,
   "metadata": {},
   "outputs": [
    {
     "data": {
      "text/plain": [
       "\u001b[0;31mInit signature:\u001b[0m \u001b[0mLHS\u001b[0m\u001b[0;34m(\u001b[0m\u001b[0;34m**\u001b[0m\u001b[0mkwargs\u001b[0m\u001b[0;34m)\u001b[0m\u001b[0;34m\u001b[0m\u001b[0;34m\u001b[0m\u001b[0m\n",
       "\u001b[0;31mDocstring:\u001b[0m      <no docstring>\n",
       "\u001b[0;31mInit docstring:\u001b[0m\n",
       "Constructor where values of options can be passed in.\n",
       "\n",
       "For the list of options, see the documentation for the problem being used.\n",
       "\n",
       "Parameters\n",
       "----------\n",
       "**kwargs : named arguments\n",
       "    Set of options that can be optionally set; each option must have been declared.\n",
       "\n",
       "Examples\n",
       "--------\n",
       ">>> import numpy as np\n",
       ">>> from smt.sampling_methods import Random\n",
       ">>> sampling = Random(xlimits=np.arange(2).reshape((1, 2)))\n",
       "\u001b[0;31mFile:\u001b[0m           /opt/conda/lib/python3.8/site-packages/smt/sampling_methods/lhs.py\n",
       "\u001b[0;31mType:\u001b[0m           type\n",
       "\u001b[0;31mSubclasses:\u001b[0m     \n"
      ]
     },
     "metadata": {},
     "output_type": "display_data"
    }
   ],
   "source": [
    "?LHS"
   ]
  },
  {
   "cell_type": "code",
   "execution_count": 106,
   "metadata": {},
   "outputs": [
    {
     "data": {
      "text/plain": [
       "array([[0.35, 0.35],\n",
       "       [0.85, 0.55],\n",
       "       [0.15, 0.25],\n",
       "       [0.05, 0.95],\n",
       "       [0.65, 0.75],\n",
       "       [0.75, 0.65],\n",
       "       [0.45, 0.15],\n",
       "       [0.95, 0.85],\n",
       "       [0.25, 0.45],\n",
       "       [0.55, 0.05]])"
      ]
     },
     "execution_count": 106,
     "metadata": {},
     "output_type": "execute_result"
    }
   ],
   "source": [
    "sampling(10)"
   ]
  }
 ],
 "metadata": {
  "kernelspec": {
   "display_name": "Python 3",
   "language": "python",
   "name": "python3"
  },
  "language_info": {
   "codemirror_mode": {
    "name": "ipython",
    "version": 3
   },
   "file_extension": ".py",
   "mimetype": "text/x-python",
   "name": "python",
   "nbconvert_exporter": "python",
   "pygments_lexer": "ipython3",
   "version": "3.8.6"
  }
 },
 "nbformat": 4,
 "nbformat_minor": 4
}
